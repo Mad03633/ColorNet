{
 "cells": [
  {
   "cell_type": "code",
   "execution_count": 1,
   "metadata": {},
   "outputs": [],
   "source": [
    "import numpy as np\n",
    "import cv2\n",
    "from cv2 import dnn\n",
    "from typing import Tuple"
   ]
  },
  {
   "cell_type": "code",
   "execution_count": 2,
   "metadata": {},
   "outputs": [],
   "source": [
    "# Model file paths\n",
    "proto_file: str = 'C:\\\\Users\\\\user\\\\Desktop\\\\ColorNet\\\\colorization_deploy_v2.prototxt'\n",
    "model_file: str = 'C:\\\\Users\\\\user\\\\Desktop\\\\ColorNet\\\\colorization_release_v2.caffemodel'\n",
    "hull_pts: str = 'C:\\\\Users\\\\user\\\\Desktop\\\\ColorNet\\\\pts_in_hull.npy'\n",
    "img_path: str = 'C:\\\\Users\\\\user\\\\Desktop\\\\ColorNet\\\\Verm-sunset-clouds-Devils-Tower-4569.jpg'"
   ]
  },
  {
   "cell_type": "code",
   "execution_count": 3,
   "metadata": {},
   "outputs": [],
   "source": [
    "# Reading the model params\n",
    "net = dnn.readNetFromCaffe(proto_file, model_file)\n",
    "kernel: np.ndarray = np.load(hull_pts)"
   ]
  },
  {
   "cell_type": "code",
   "execution_count": 4,
   "metadata": {},
   "outputs": [],
   "source": [
    "# Reading and preprocessing image\n",
    "img: np.ndarray = cv2.imread(img_path)\n",
    "scaled: np.ndarray = img.astype(\"float32\") / 255.0\n",
    "lab_img: np.ndarray = cv2.cvtColor(scaled, cv2.COLOR_BGR2LAB)"
   ]
  },
  {
   "cell_type": "code",
   "execution_count": 5,
   "metadata": {},
   "outputs": [],
   "source": [
    "# Add the cluster centers as 1x1 convolutions to the model\n",
    "class8: int = net.getLayerId(\"class8_ab\")\n",
    "conv8: int = net.getLayerId(\"conv8_313_rh\")\n",
    "pts: np.ndarray = kernel.transpose().reshape(2, 313, 1, 1)\n",
    "net.getLayer(class8).blobs = [pts.astype(\"float32\")]\n",
    "net.getLayer(conv8).blobs = [np.full([1, 313], 2.606, dtype=\"float32\")]"
   ]
  },
  {
   "cell_type": "code",
   "execution_count": 6,
   "metadata": {},
   "outputs": [],
   "source": [
    "# Resizing the image for the network \n",
    "resized: np.ndarray = cv2.resize(lab_img, (224, 224))\n",
    "\n",
    "# Splitting the L channel \n",
    "L: np.ndarray = cv2.split(resized)[0]\n",
    "\n",
    "# Mean subtraction\n",
    "L -= 50"
   ]
  },
  {
   "cell_type": "code",
   "execution_count": 7,
   "metadata": {},
   "outputs": [],
   "source": [
    "# Predicting the ab channels from the input L channel\n",
    "net.setInput(cv2.dnn.blobFromImage(L))\n",
    "ab_channel: np.ndarray = net.forward()[0, :, :, :].transpose((1, 2, 0)) \n",
    "\n",
    "# Resize the predicted 'ab' volume to the same dimensions as our input image\n",
    "ab_channel: np.ndarray = cv2.resize(ab_channel, (img.shape[1], img.shape[0]))"
   ]
  },
  {
   "cell_type": "code",
   "execution_count": 8,
   "metadata": {},
   "outputs": [],
   "source": [
    "# Taking the L channel from the image\n",
    "L: np.ndarray = cv2.split(lab_img)[0]\n",
    "# Join the L channel with predicted ab channel\n",
    "colorized: np.ndarray = np.concatenate((L[:, :, np.newaxis], ab_channel), axis=2)"
   ]
  },
  {
   "cell_type": "code",
   "execution_count": 9,
   "metadata": {},
   "outputs": [],
   "source": [
    "# Converting the image from Lab to BGR \n",
    "colorized: np.ndarray = cv2.cvtColor(colorized, cv2.COLOR_LAB2BGR)\n",
    "colorized: np.ndarray = np.clip(colorized, 0, 1)\n",
    " \n",
    "# Change the image to 0-255 range and convert it from float32 to int\n",
    "colorized: np.ndarray = (255 * colorized).astype(\"uint8\")"
   ]
  },
  {
   "cell_type": "code",
   "execution_count": 12,
   "metadata": {},
   "outputs": [
    {
     "name": "stdout",
     "output_type": "stream",
     "text": [
      "Colorized image saved to colorized_img1.jpg\n"
     ]
    },
    {
     "data": {
      "text/plain": [
       "-1"
      ]
     },
     "execution_count": 12,
     "metadata": {},
     "output_type": "execute_result"
    }
   ],
   "source": [
    "# Resizing the images and show them together\n",
    "img: np.ndarray = cv2.resize(img,(640,640))\n",
    "colorized: np.ndarray = cv2.resize(colorized,(640,640))\n",
    " \n",
    "result: np.ndarray = cv2.hconcat([img,colorized])\n",
    " \n",
    "cv2.imshow(\"Grayscale -> Colour\", result)\n",
    "\n",
    "output_path = 'colorized_img1.jpg'\n",
    "cv2.imwrite(output_path, colorized)\n",
    "input_path = 'original_img.jpg'\n",
    "cv2.imwrite(input_path, img)\n",
    "print(f\"Colorized image saved to {output_path}\")\n",
    "\n",
    "cv2.waitKey(0)"
   ]
  }
 ],
 "metadata": {
  "kernelspec": {
   "display_name": "Python 3",
   "language": "python",
   "name": "python3"
  },
  "language_info": {
   "codemirror_mode": {
    "name": "ipython",
    "version": 3
   },
   "file_extension": ".py",
   "mimetype": "text/x-python",
   "name": "python",
   "nbconvert_exporter": "python",
   "pygments_lexer": "ipython3",
   "version": "3.11.5"
  }
 },
 "nbformat": 4,
 "nbformat_minor": 2
}
